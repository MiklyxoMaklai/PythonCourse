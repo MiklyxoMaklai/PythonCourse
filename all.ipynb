{
 "cells": [
  {
   "cell_type": "code",
   "execution_count": 110,
   "metadata": {},
   "outputs": [
    {
     "name": "stdout",
     "output_type": "stream",
     "text": [
      "abcd\n",
      "*d%#\n",
      "abacabadaba\n",
      "#*%*d*%\n",
      "*d*%*d*#*d*\n",
      "dacabac"
     ]
    }
   ],
   "source": [
    "crypt = {}\n",
    "deCrypt = {}\n",
    "alp = input()\n",
    "key = input()\n",
    "for i in range(len(alp)):\n",
    "    crypt[alp[i]] = key[i]\n",
    "    deCrypt[key[i]] = alp[i]\n",
    "w = input()\n",
    "d = input()\n",
    "for j in range(len(w)):\n",
    "    print(crypt[w[j]], end='')\n",
    "print()\n",
    "for k in range(len(d)):\n",
    "    print(deCrypt[d[k]], end='')"
   ]
  },
  {
   "cell_type": "code",
   "execution_count": 102,
   "metadata": {},
   "outputs": [
    {
     "name": "stdout",
     "output_type": "stream",
     "text": [
      "3\n",
      "Зенит;3;Спартак;1\n",
      "Спартак;1;ЦСКА;1\n",
      "ЦСКА;0;Зенит;2\n",
      "Зенит:2 2 0 0 6 \n",
      "Спартак:2 0 1 1 1 \n",
      "ЦСКА:2 0 1 1 1 \n"
     ]
    }
   ],
   "source": [
    "n = int(input())\n",
    "tab = {}\n",
    "while n != 0:\n",
    "    n -= 1\n",
    "    game = input().split(';')\n",
    "    for i in range(len(game)):\n",
    "        if i % 2 == 0:\n",
    "            if game[i] not in tab:\n",
    "                tab[game[i]] = [0, 0, 0, 0, 0]\n",
    "            tab[game[i]][0] += 1\n",
    "    goalsA = int(game[1])\n",
    "    goalsB = int(game[3])\n",
    "    if goalsA > goalsB:\n",
    "        tab[game[0]][4] += 3\n",
    "        tab[game[0]][1] += 1\n",
    "        tab[game[2]][3] += 1\n",
    "    elif goalsA < goalsB:\n",
    "        tab[game[2]][4] += 3\n",
    "        tab[game[2]][1] += 1\n",
    "        tab[game[0]][3] += 1\n",
    "    else:\n",
    "        tab[game[0]][2] += 1\n",
    "        tab[game[0]][4] += 1\n",
    "        tab[game[2]][2] += 1\n",
    "        tab[game[2]][4] += 1\n",
    "for comm, i in tab.items():\n",
    "    print(comm, end=':')\n",
    "    for j in i:\n",
    "        print(j, end=' ')\n",
    "    print()\n",
    "\n",
    "\n",
    "# Зенит;3;Спартак;1\n",
    "# Спартак;1;ЦСКА;1\n",
    "# ЦСКА;0;Зенит;2"
   ]
  },
  {
   "cell_type": "code",
   "execution_count": 60,
   "metadata": {},
   "outputs": [
    {
     "name": "stdout",
     "output_type": "stream",
     "text": [
      "1 125.0\n",
      "2 130.21428571428572\n",
      "3 135.55555555555554\n",
      "4 141.875\n",
      "5 145.07142857142858\n",
      "6 154.11111111111111\n",
      "7 160.23076923076923\n",
      "8 164.4\n",
      "9 172.0\n",
      "10 169.16666666666666\n",
      "11 175.25\n"
     ]
    }
   ],
   "source": [
    "cls = [[0, 0]]*12\n",
    "with open('dataset_3380_5.txt') as txt:\n",
    "    for line in txt:\n",
    "        line = line.strip().split('\\t')\n",
    "        cls[int(line[0])] = [cls[int(line[0])][0] + 1, cls[int(line[0])][1] + int(line[2])]\n",
    "for i in range(1,len(cls)):\n",
    "    if cls[i][1] == 0:\n",
    "        print(i, '-')\n",
    "    else:\n",
    "        print(i, cls[i][1] / cls[i][0])"
   ]
  },
  {
   "cell_type": "code",
   "execution_count": 2,
   "metadata": {},
   "outputs": [
    {
     "name": "stdout",
     "output_type": "stream",
     "text": [
      "4\n",
      "север 10\n",
      "запад 20\n",
      "юг 30\n",
      "восток 40\n",
      "20 -20\n"
     ]
    }
   ],
   "source": [
    "n = int(input())\n",
    "x = 0\n",
    "y = 0\n",
    "while n != 0:\n",
    "    n -= 1\n",
    "    orient = input().split()\n",
    "    if orient[0] == 'север':\n",
    "        y += int(orient[1])\n",
    "    elif orient[0] == 'юг':\n",
    "        y -= int(orient[1])\n",
    "    elif orient[0] == 'запад':\n",
    "        x -= int(orient[1])\n",
    "    elif orient[0] == 'восток':\n",
    "        x += int(orient[1])\n",
    "print(x, y)"
   ]
  },
  {
   "cell_type": "code",
   "execution_count": 107,
   "metadata": {},
   "outputs": [
    {
     "name": "stdout",
     "output_type": "stream",
     "text": [
      "3\n",
      "we\n",
      "sd\n",
      "rf\n",
      "2\n",
      "we we\n",
      "ws we as\n",
      "as\n",
      "ws\n"
     ]
    }
   ],
   "source": [
    "dct = []\n",
    "notDict = set()\n",
    "d = int(input())\n",
    "while d != 0:\n",
    "    dct += [input().lower()]\n",
    "    d -= 1\n",
    "l = int(input())\n",
    "while l != 0:\n",
    "    l -= 1\n",
    "    for wrd in input().split():\n",
    "        if wrd.lower() not in dct:\n",
    "            notDict.add(wrd)\n",
    "for w in notDict:\n",
    "    print(w)"
   ]
  },
  {
   "cell_type": "code",
   "execution_count": 98,
   "metadata": {},
   "outputs": [
    {
     "name": "stdout",
     "output_type": "stream",
     "text": [
      "['We are the champions, my friends,', \"And we'll keep on fighting 'til the end.\", 'We are the champions.', 'We are the champions.', 'No time for losers', \"'Cause we are the champions of the world.\"]; ['213837.txt']; ['396639.txt']; ['835329.txt']; ['344063.txt']; ['194307.txt']; ['195211.txt']; ['769171.txt']; ['153554.txt']; ['680916.txt']; ['335636.txt']; ['935728.txt']; ['081303.txt']; ['792633.txt']; ['668368.txt']; ['647731.txt']; ['904392.txt']; ['684563.txt']; ['997337.txt']; ['329467.txt']; ['366219.txt']; ['730037.txt']; ['310230.txt']; ['104249.txt']; ['382504.txt']; ['433681.txt']; ['507359.txt']; ['293649.txt']; ['011641.txt']; ['717942.txt']; ['258080.txt']; ['569395.txt']; ['756825.txt']; ['921388.txt']; ['437007.txt']; ['004090.txt']; ['362705.txt']; ['145282.txt']; ['990216.txt']; ['645783.txt']; ['451262.txt']; ['193295.txt']; ['777343.txt']; ['324603.txt']; ['888934.txt']; ['138655.txt']; ['818396.txt']; ['290594.txt']; ['478003.txt']; ['276687.txt']; ['703763.txt']; ['712469.txt']; ['064418.txt']; ['246033.txt']; ['356768.txt']; ['504290.txt']; ['629914.txt']; ['062456.txt']; ['658472.txt']; ['037659.txt']; ['351978.txt']; ['523822.txt']; ['653493.txt']; ['859227.txt']; ['878358.txt']; ['944504.txt']; ['457602.txt']; ['548571.txt']; ['090976.txt']; ['965991.txt']; ['138128.txt']; ['255843.txt']; ['797598.txt']; ['640003.txt']; ['789435.txt']; ['181382.txt']; ['590526.txt']; ['430513.txt']; ['182774.txt']; ['924794.txt']; ['998193.txt']; ['770039.txt']; ['619504.txt']; ['098137.txt']; ['874234.txt']; ['476929.txt']; ['254654.txt']; ['972817.txt']; ['183249.txt']; ['231788.txt']; ['238807.txt']; ['775176.txt']; ['332055.txt']; ['971266.txt']; ['641342.txt']; ['377648.txt']; ['665641.txt']; ['120842.txt']; ['435728.txt']; ['860507.txt']; ['845049.txt']; ['103662.txt']; ['989375.txt']; ['949525.txt']; ['622807.txt']; ['441279.txt']; ['252484.txt']; ['595082.txt']; ['942502.txt']; ['544418.txt']; ['242071.txt']; ['696203.txt']; ['470997.txt']; ['858079.txt']; ['299971.txt']; ['474312.txt']; ['202815.txt']; ['192361.txt']; ['036087.txt']; ['208836.txt']; ['057270.txt']; ['414940.txt']; ['685551.txt']; ['877276.txt']; ['183839.txt']; ['681194.txt']; ['268115.txt']; ['850395.txt']; ['841311.txt']; ['318124.txt']; ['502298.txt']; ['870820.txt']; ['886554.txt']; ['874723.txt']; ['785247.txt']; ['743951.txt']; ['893121.txt']; ['493592.txt']; ['043302.txt']; ['512901.txt']; ['455422.txt']; ['405792.txt']; ['223561.txt']; ['711048.txt']; ['986818.txt']; ['919305.txt']; ['673023.txt']; ['195915.txt']; ['113918.txt']; ['829948.txt']; ['407495.txt']; ['799448.txt']; ['455591.txt']; ['046533.txt']; ['895838.txt']; ['203749.txt']; ['897513.txt']; ['023903.txt']; ['639854.txt']; ['767954.txt']; ['483260.txt']; ['305657.txt']; ['113973.txt']; ['569665.txt']; ['811640.txt']; ['627996.txt']; ['555691.txt']; ['126531.txt']; ['434239.txt']; ['812997.txt']; ['012540.txt']; ['457171.txt']; ['809767.txt']; ['113083.txt']; ['168190.txt']; ['105218.txt']; ['426930.txt']; ['839383.txt']; ['318610.txt']; ['727580.txt']; ['966169.txt']; ['633699.txt']; ['933699.txt']; ['254907.txt']; ['277257.txt']; ['105289.txt']; ['618947.txt']; ['788422.txt']; ['598850.txt']; ['218724.txt']; ['855788.txt']; ['414896.txt']; ['086361.txt']; ['259720.txt']; ['864746.txt']; ['213015.txt']; ['706951.txt']; ['790699.txt']; ['556965.txt']; ['843911.txt']; ['824452.txt']; ['558623.txt']; ['299517.txt']; ['204151.txt']; ['864178.txt']; ['001410.txt']; ['268784.txt']; ['413917.txt']; ['258819.txt']; ['694433.txt']; ['376424.txt']; ['198564.txt']; ['228068.txt']; ['417050.txt']; ['453058.txt']; ['182986.txt']; ['237570.txt']; ['680981.txt']; ['865546.txt']; ['367559.txt']; ['122687.txt']; ['783680.txt']; ['626200.txt']; ['953943.txt']; ['009102.txt']; ['882919.txt']; ['984198.txt']; ['867571.txt']; ['889641.txt']; ['223919.txt']; ['748056.txt']; ['577611.txt']; ['749540.txt']; ['536080.txt']; ['351770.txt']; ['968708.txt']; ['311090.txt']; ['239129.txt']; ['312237.txt']; ['053569.txt']; ['678528.txt']; ['767429.txt']; ['095729.txt']; ['452488.txt']; ['798915.txt']; ['426191.txt']; ['067336.txt']; ['949017.txt']; ['987573.txt']; ['843785.txt']; We are the champions, my friends,\n",
      "And we'll keep on fighting 'til the end.\n",
      "We are the champions.\n",
      "We are the champions.\n",
      "No time for losers\n",
      "'Cause we are the champions of the world.\n"
     ]
    }
   ],
   "source": [
    "import requests as req\n",
    "text = '  '\n",
    "url = 'https://stepik.org/media/attachments/course67/3.6.3/'\n",
    "with open('dataset_3378_3.txt') as txt:\n",
    "    uri = txt.readline().strip()\n",
    "\n",
    "while text[0] + text[1] != 'We':\n",
    "    print(file, end='; ')\n",
    "    resp = req.get(uri)\n",
    "    text = resp.text.strip()\n",
    "    file = text.splitlines()\n",
    "    uri = url + file[0]\n",
    "print(text)"
   ]
  },
  {
   "cell_type": "code",
   "execution_count": 80,
   "metadata": {},
   "outputs": [
    {
     "name": "stdout",
     "output_type": "stream",
     "text": [
      "246\n"
     ]
    }
   ],
   "source": [
    "import requests as req\n",
    "url = ''\n",
    "with open('dataset_3378_2.txt') as txt:\n",
    "    url = txt.readline().strip()\n",
    "resp = req.get(url)\n",
    "print(len(resp.text.splitlines()))"
   ]
  },
  {
   "cell_type": "code",
   "execution_count": null,
   "metadata": {},
   "outputs": [],
   "source": [
    "import sys\n",
    "for i in range(len(sys.argv)):\n",
    "    if i != 0:\n",
    "        print(sys.argv[i], end=' ')"
   ]
  },
  {
   "cell_type": "code",
   "execution_count": 69,
   "metadata": {},
   "outputs": [
    {
     "name": "stdout",
     "output_type": "stream",
     "text": [
      "10.0\n",
      "62.83185307179586\n"
     ]
    }
   ],
   "source": [
    "import math as m\n",
    "radius = float(input())\n",
    "print(2 * radius * m.pi)"
   ]
  },
  {
   "cell_type": "code",
   "execution_count": 61,
   "metadata": {},
   "outputs": [
    {
     "name": "stdout",
     "output_type": "stream",
     "text": [
      "196\n"
     ]
    },
    {
     "data": {
      "text/plain": [
       "{0: ['Nevill', 84, 28, 92],\n",
       " 1: ['Kennedy', 89, 73, 53],\n",
       " 2: ['Milton', 69, 95, 67],\n",
       " 3: ['Keat', 72, 92, 60],\n",
       " 4: ['Duncan', 50, 73, 58],\n",
       " 5: ['Wainwright', 35, 31, 90],\n",
       " 6: ['Barrington', 26, 68, 61],\n",
       " 7: ['Bradberry', 88, 98, 80],\n",
       " 8: ['Hodges', 92, 97, 42],\n",
       " 9: ['Miers', 47, 81, 25],\n",
       " 10: ['Coleman', 89, 40, 80],\n",
       " 11: ['Salomon', 65, 80, 91],\n",
       " 12: ['Babcock', 31, 61, 72],\n",
       " 13: ['Stephen', 89, 25, 28],\n",
       " 14: ['Roberts', 97, 31, 60],\n",
       " 15: ['Dutton', 100, 97, 29],\n",
       " 16: ['Miln', 45, 32, 85],\n",
       " 17: ['Anderson', 51, 90, 98],\n",
       " 18: ['Jeff', 94, 98, 64],\n",
       " 19: ['Nelson', 52, 28, 98],\n",
       " 20: ['Blare', 94, 80, 70],\n",
       " 21: ['Ayrton', 86, 73, 91],\n",
       " 22: ['Higgins', 29, 51, 55],\n",
       " 23: ['Aldridge', 48, 69, 51],\n",
       " 24: ['Reynolds', 82, 26, 91],\n",
       " 25: ['Brickman', 90, 67, 80],\n",
       " 26: ['Lewin', 43, 57, 35],\n",
       " 27: ['Hardman', 27, 89, 89],\n",
       " 28: ['Raleigh', 89, 88, 71],\n",
       " 29: ['Holmes', 61, 60, 96],\n",
       " 30: ['Paterson', 34, 81, 91],\n",
       " 31: ['Bradshaw', 61, 49, 76],\n",
       " 32: ['Simon', 72, 86, 66],\n",
       " 33: ['Creighton', 96, 54, 85],\n",
       " 34: ['Oakman', 38, 68, 98],\n",
       " 35: ['Hancock', 73, 58, 98],\n",
       " 36: ['Gilson', 83, 26, 53],\n",
       " 37: ['Walter', 28, 74, 40],\n",
       " 38: ['Albertson', 88, 72, 43],\n",
       " 39: ['Carroll', 58, 83, 31],\n",
       " 40: ['Quincy', 96, 57, 28],\n",
       " 41: ['Freeman', 82, 27, 51],\n",
       " 42: ['Conors', 66, 25, 96],\n",
       " 43: ['Porter', 59, 37, 55],\n",
       " 44: ['Howard', 34, 67, 79],\n",
       " 45: ['Durham', 52, 47, 99],\n",
       " 46: ['Arthurs', 44, 100, 32],\n",
       " 47: ['Stanley', 37, 75, 64],\n",
       " 48: ['Ford', 73, 86, 82],\n",
       " 49: ['Warren', 34, 27, 82],\n",
       " 50: ['Pearcy', 47, 84, 90],\n",
       " 51: ['Marlow', 76, 37, 41],\n",
       " 52: ['Oswald', 78, 61, 96],\n",
       " 53: ['Allford', 100, 61, 37],\n",
       " 54: ['James', 56, 67, 35],\n",
       " 55: ['MacAlister', 90, 92, 42],\n",
       " 56: ['Holiday', 86, 87, 52],\n",
       " 57: ['Finch', 73, 64, 73],\n",
       " 58: ['Peterson', 27, 31, 77],\n",
       " 59: ['Nicholson', 31, 67, 89],\n",
       " 60: ['Miller', 26, 89, 52],\n",
       " 61: ['Thomson', 24, 92, 85],\n",
       " 62: ['Palmer', 86, 29, 84],\n",
       " 63: ['Addington', 74, 67, 82],\n",
       " 64: ['Brown', 75, 32, 89],\n",
       " 65: ['Jerome', 24, 55, 31],\n",
       " 66: ['Hamphrey', 48, 81, 30],\n",
       " 67: ['Thornton', 63, 67, 36],\n",
       " 68: ['Jacobson', 37, 30, 81],\n",
       " 69: ['Wayne', 91, 39, 91],\n",
       " 70: ['Boolman', 54, 25, 48],\n",
       " 71: ['Cook', 86, 74, 67],\n",
       " 72: ['Chesterton', 100, 32, 28],\n",
       " 73: ['Eddington', 86, 57, 72],\n",
       " 74: ['Clapton', 78, 44, 79],\n",
       " 75: ['Bush', 63, 85, 76],\n",
       " 76: ['Birch', 79, 48, 50],\n",
       " 77: ['Marshman', 26, 72, 62],\n",
       " 78: ['Benson', 33, 50, 42],\n",
       " 79: ['Livingston', 48, 57, 49],\n",
       " 80: ['Crossman', 60, 96, 28],\n",
       " 81: ['Jenkin', 86, 25, 26],\n",
       " 82: ['Kirk', 91, 42, 53],\n",
       " 83: ['Galbraith', 32, 86, 60],\n",
       " 84: ['Hawkins', 72, 81, 83],\n",
       " 85: ['Fraser', 62, 33, 74],\n",
       " 86: ['Watson', 81, 51, 72],\n",
       " 87: ['Adrian', 26, 94, 36],\n",
       " 88: ['Larkins', 71, 80, 66],\n",
       " 89: ['Russel', 79, 68, 53],\n",
       " 90: ['Salisburry', 68, 50, 33],\n",
       " 91: ['Clifford', 83, 65, 42],\n",
       " 92: ['Gilmore', 99, 45, 88],\n",
       " 93: ['Stevenson', 89, 44, 49],\n",
       " 94: ['Gerald', 38, 34, 85],\n",
       " 95: ['Campbell', 29, 81, 62],\n",
       " 96: ['Haig', 87, 44, 26],\n",
       " 97: ['Bosworth', 73, 24, 54],\n",
       " 98: ['Gimson', 57, 67, 60],\n",
       " 99: ['Mackenzie', 31, 92, 58],\n",
       " 100: ['Abramson', 35, 53, 30],\n",
       " 101: ['Ramacey', 43, 39, 74],\n",
       " 102: ['Macduff', 83, 55, 56],\n",
       " 103: ['Gate', 32, 92, 69],\n",
       " 104: ['Wallace', 100, 49, 65],\n",
       " 105: ['Fleming', 98, 77, 87],\n",
       " 106: ['Laird', 33, 33, 63],\n",
       " 107: ['Wesley', 50, 87, 70],\n",
       " 108: ['Neal', 33, 36, 70],\n",
       " 109: ['Andrews', 62, 97, 70],\n",
       " 110: ['Longman', 82, 77, 42],\n",
       " 111: ['Alsopp', 64, 96, 82],\n",
       " 112: ['Becker', 100, 36, 89],\n",
       " 113: ['Francis', 63, 57, 28],\n",
       " 114: ['Dowman', 66, 83, 54],\n",
       " 115: ['Murphy', 28, 70, 74],\n",
       " 116: ['Garrison', 70, 79, 44],\n",
       " 117: ['Bootman', 97, 66, 36],\n",
       " 118: ['Cramer', 96, 48, 34],\n",
       " 119: ['Shorter', 74, 61, 47],\n",
       " 120: ['Ward', 60, 60, 91],\n",
       " 121: ['Mercer', 40, 100, 72],\n",
       " 122: ['Sheldon', 55, 62, 59],\n",
       " 123: ['Foster', 72, 44, 58],\n",
       " 124: ['Sykes', 25, 41, 37],\n",
       " 125: ['Kendal', 76, 45, 69],\n",
       " 126: ['Calhoun', 86, 28, 55],\n",
       " 127: ['Donovan', 71, 99, 38],\n",
       " 128: ['WifKinson', 42, 75, 87],\n",
       " 129: ['MacDonald', 37, 28, 61],\n",
       " 130: ['Berrington', 68, 92, 61],\n",
       " 131: ['Dunce', 96, 96, 59],\n",
       " 132: ['Derrick', 81, 67, 57],\n",
       " 133: ['Donaldson', 48, 37, 64],\n",
       " 134: ['Taylor', 28, 36, 58],\n",
       " 135: ['Fitzgerald', 82, 88, 92],\n",
       " 136: ['Philips', 85, 81, 27],\n",
       " 137: ['Vance', 48, 94, 26],\n",
       " 138: ['Macey', 83, 42, 37],\n",
       " 139: ['Richards', 38, 86, 84],\n",
       " 140: ['Otis', 68, 86, 87],\n",
       " 141: ['Farrell', 59, 77, 25],\n",
       " 142: ['Walkman', 87, 46, 96],\n",
       " 143: ['Roger', 83, 29, 76],\n",
       " 144: ['Molligan', 39, 38, 76],\n",
       " 145: ['Flatcher', 73, 70, 54],\n",
       " 146: ['Atcheson', 52, 42, 41],\n",
       " 147: ['Little', 50, 24, 55],\n",
       " 148: ['Flannagan', 30, 27, 95],\n",
       " 149: ['Jones', 65, 48, 70],\n",
       " 150: ['Carey', 90, 87, 73],\n",
       " 151: ['Tracey', 37, 96, 31],\n",
       " 152: ['Carrington', 31, 35, 31],\n",
       " 153: ['White', 85, 73, 41],\n",
       " 154: ['Peacock', 64, 72, 66],\n",
       " 155: ['Dyson', 33, 70, 98],\n",
       " 156: ['Taft', 35, 39, 65],\n",
       " 157: ['Forster', 25, 69, 61],\n",
       " 158: ['Adderiy', 72, 89, 31],\n",
       " 159: ['Ryder', 71, 32, 74],\n",
       " 160: ['Leman', 68, 66, 69],\n",
       " 161: ['Smith', 94, 40, 85],\n",
       " 162: ['Leapman', 95, 29, 40],\n",
       " 163: ['Goldman', 41, 36, 27],\n",
       " 164: ['Chandter', 36, 70, 71],\n",
       " 165: ['Elmers', 60, 96, 92],\n",
       " 166: ['Mansfield', 71, 55, 56],\n",
       " 167: ['Austin', 59, 92, 62],\n",
       " 168: ['Young', 90, 77, 72],\n",
       " 169: ['Nyman', 36, 91, 92],\n",
       " 170: ['Sherlock', 99, 56, 71],\n",
       " 171: ['Gibbs', 76, 75, 77],\n",
       " 172: ['Davidson', 98, 34, 51],\n",
       " 173: ['Dickinson', 58, 26, 100],\n",
       " 174: ['Shackley', 55, 29, 82],\n",
       " 175: ['Edwards', 30, 78, 72],\n",
       " 176: ['Parson', 94, 70, 56],\n",
       " 177: ['Ellington', 87, 69, 63],\n",
       " 178: ['Blomfield', 46, 43, 59],\n",
       " 179: ['Chapman', 47, 38, 55],\n",
       " 180: ['Mathews', 29, 47, 80],\n",
       " 181: ['Kingsman', 84, 37, 35],\n",
       " 182: ['MacAdam', 48, 81, 70],\n",
       " 183: ['Gustman', 70, 36, 74],\n",
       " 184: ['Adamson', 43, 90, 45],\n",
       " 185: ['Parkinson', 38, 40, 89],\n",
       " 186: ['Owen', 40, 81, 32],\n",
       " 187: ['Vaughan', 68, 100, 85],\n",
       " 188: ['Hailey', 24, 100, 60],\n",
       " 189: ['Fulton', 38, 68, 71],\n",
       " 190: ['Fane', 87, 51, 100],\n",
       " 191: ['Charlson', 28, 24, 78],\n",
       " 192: ['Harrison', 90, 88, 41],\n",
       " 193: ['Backer', 73, 97, 38],\n",
       " 194: ['Bargeman', 59, 93, 25],\n",
       " 195: ['Arnold', 98, 81, 97]}"
      ]
     },
     "execution_count": 61,
     "metadata": {},
     "output_type": "execute_result"
    }
   ],
   "source": [
    "#         Фамилия;Оценка_по_математике;Оценка_по_физике;Оценка_по_русскому_языку\n",
    "tabel = {}\n",
    "with open('dataset_3363_4.txt') as txt:\n",
    "    inc = 0\n",
    "    for line in txt:\n",
    "        line = line.strip().split(';')\n",
    "        tabel[inc] = [line[0], int(line[1]), int(line[2]), int(line[3])]\n",
    "        inc += 1\n",
    "with open('test_4.txt', 'w') as txt:\n",
    "    summa = [0, 0, 0]\n",
    "    for i, info in tabel.items():\n",
    "        summa[0] += info[1]\n",
    "        summa[1] += info[2]\n",
    "        summa[2] += info[3]\n",
    "        txt.write(str((info[1] + info[2] + info[3]) / 3) + '\\n')\n",
    "    for sm in summa:\n",
    "        txt.write(str(sm / len(tabel)) + ' ')\n",
    "print(len(tabel))\n",
    "tabel\n"
   ]
  },
  {
   "cell_type": "code",
   "execution_count": 35,
   "metadata": {},
   "outputs": [
    {
     "name": "stdout",
     "output_type": "stream",
     "text": [
      "Up 3\n",
      "aacX 1\n",
      "Ub 1\n",
      "UbYTYcdTd 1\n",
      "XXUYXTU 1\n",
      "abb 1\n",
      "pXcpZU 1\n",
      "bTcYbYb 1\n",
      "UaYaU 1\n",
      "dX 1\n",
      "bZZdcZap 1\n",
      "pdad 1\n",
      "ZaU 1\n",
      "bUpadTYaa 2\n",
      "Ya 3\n",
      "Xbd 2\n",
      "aaUd 1\n",
      "acb 1\n",
      "addcacZ 1\n",
      "aaYcc 1\n",
      "Zba 1\n",
      "Xap 1\n",
      "XdX 1\n",
      "dXYc 1\n",
      "UdpU 1\n",
      "Z 2\n",
      "XTcUY 1\n",
      "XZ 1\n",
      "aXaZb 1\n",
      "TaZUp 1\n",
      "TXaTc 1\n",
      "pZUXTcXp 5\n",
      "da 2\n",
      "ZZ 1\n",
      "aaT 2\n",
      "Yb 3\n",
      "YZdd 1\n",
      "TYYccUdXX 1\n",
      "a 1\n",
      "YYUTdYdc 1\n",
      "pZ 2\n",
      "YYpZXYTc 1\n",
      "Xaa 1\n",
      "UTUUaTYa 1\n",
      "YcaYU 1\n",
      "YZpUaTZY 2\n",
      "TdZp 1\n",
      "dY 1\n",
      "cZap 1\n",
      "Ypc 1\n",
      "TYd 1\n",
      "UUdbbaY 1\n",
      "ccZdapXcb 1\n",
      "TYTUd 1\n",
      "aYp 1\n",
      "dU 1\n",
      "cdc 1\n",
      "bpTU 1\n",
      "ZbTTYZ 4\n",
      "aXccpa 3\n",
      "Zb 1\n",
      "ZbZT 1\n",
      "YcpZ 1\n",
      "ZTY 1\n",
      "baZTpTUdc 1\n",
      "aU 1\n",
      "cdUpZTUp 1\n",
      "XpcX 1\n",
      "YYZYacYaX 1\n",
      "dTZpppZbX 2\n",
      "acXZbdY 1\n",
      "XaTTUadd 1\n",
      "cpT 2\n",
      "Tc 1\n",
      "paa 1\n",
      "paappb 1\n",
      "YaXbdcXTp 1\n",
      "X 1\n",
      "dTb 1\n",
      "aY 2\n",
      "dTbdYUda 1\n",
      "Y 2\n",
      "UUbYU 1\n",
      "bUXUTad 1\n",
      "dZZTdZZU 1\n",
      "pdZbpcYaZ 1\n",
      "TZ 1\n",
      "UcZdcbdYd 1\n",
      "XYZTTTc 1\n",
      "Ypa 1\n",
      "dZ 1\n",
      "YbpbacX 1\n",
      "aacUZacd 1\n",
      "bbadU 1\n",
      "aYYTZUTbX 9\n",
      "cXaZ 3\n",
      "pXpbpd 1\n",
      "UZYZ 1\n",
      "aTbdbU 1\n",
      "aYUT 1\n",
      "TUppXX 1\n",
      "ZYpY 1\n",
      "cZcabYcZ 1\n",
      "bXYpYTpb 1\n",
      "dZb 1\n",
      "pYYacUUd 1\n",
      "cTbcc 1\n",
      "XYcXdpY 1\n",
      "pZXdbTY 2\n",
      "dTZbbcb 1\n",
      "ZTZ 1\n",
      "bUUpbYY 4\n",
      "aYTcpa 1\n",
      "cadTZXp 1\n",
      "Ud 1\n",
      "cpbpUUXd 1\n",
      "dppXXdbTZ 1\n",
      "UaX 1\n",
      "bU 1\n",
      "T 1\n",
      "bYXT 1\n",
      "Yba 1\n",
      "d 1\n",
      "XT 1\n",
      "ZcabdZdd 1\n",
      "TZaXXYap 1\n",
      "ZT 1\n",
      "bUZTZX 1\n",
      "TpYbUX 1\n",
      "cbcapTZY 1\n",
      "130\n",
      "130\n",
      "9\n"
     ]
    },
    {
     "data": {
      "text/plain": [
       "{'Up': 3,\n",
       " 'aacX': 1,\n",
       " 'Ub': 1,\n",
       " 'UbYTYcdTd': 1,\n",
       " 'XXUYXTU': 1,\n",
       " 'abb': 1,\n",
       " 'pXcpZU': 1,\n",
       " 'bTcYbYb': 1,\n",
       " 'UaYaU': 1,\n",
       " 'dX': 1,\n",
       " 'bZZdcZap': 1,\n",
       " 'pdad': 1,\n",
       " 'ZaU': 1,\n",
       " 'bUpadTYaa': 2,\n",
       " 'Ya': 3,\n",
       " 'Xbd': 2,\n",
       " 'aaUd': 1,\n",
       " 'acb': 1,\n",
       " 'addcacZ': 1,\n",
       " 'aaYcc': 1,\n",
       " 'Zba': 1,\n",
       " 'Xap': 1,\n",
       " 'XdX': 1,\n",
       " 'dXYc': 1,\n",
       " 'UdpU': 1,\n",
       " 'Z': 2,\n",
       " 'XTcUY': 1,\n",
       " 'XZ': 1,\n",
       " 'aXaZb': 1,\n",
       " 'TaZUp': 1,\n",
       " 'TXaTc': 1,\n",
       " 'pZUXTcXp': 5,\n",
       " 'da': 2,\n",
       " 'ZZ': 1,\n",
       " 'aaT': 2,\n",
       " 'Yb': 3,\n",
       " 'YZdd': 1,\n",
       " 'TYYccUdXX': 1,\n",
       " 'a': 1,\n",
       " 'YYUTdYdc': 1,\n",
       " 'pZ': 2,\n",
       " 'YYpZXYTc': 1,\n",
       " 'Xaa': 1,\n",
       " 'UTUUaTYa': 1,\n",
       " 'YcaYU': 1,\n",
       " 'YZpUaTZY': 2,\n",
       " 'TdZp': 1,\n",
       " 'dY': 1,\n",
       " 'cZap': 1,\n",
       " 'Ypc': 1,\n",
       " 'TYd': 1,\n",
       " 'UUdbbaY': 1,\n",
       " 'ccZdapXcb': 1,\n",
       " 'TYTUd': 1,\n",
       " 'aYp': 1,\n",
       " 'dU': 1,\n",
       " 'cdc': 1,\n",
       " 'bpTU': 1,\n",
       " 'ZbTTYZ': 4,\n",
       " 'aXccpa': 3,\n",
       " 'Zb': 1,\n",
       " 'ZbZT': 1,\n",
       " 'YcpZ': 1,\n",
       " 'ZTY': 1,\n",
       " 'baZTpTUdc': 1,\n",
       " 'aU': 1,\n",
       " 'cdUpZTUp': 1,\n",
       " 'XpcX': 1,\n",
       " 'YYZYacYaX': 1,\n",
       " 'dTZpppZbX': 2,\n",
       " 'acXZbdY': 1,\n",
       " 'XaTTUadd': 1,\n",
       " 'cpT': 2,\n",
       " 'Tc': 1,\n",
       " 'paa': 1,\n",
       " 'paappb': 1,\n",
       " 'YaXbdcXTp': 1,\n",
       " 'X': 1,\n",
       " 'dTb': 1,\n",
       " 'aY': 2,\n",
       " 'dTbdYUda': 1,\n",
       " 'Y': 2,\n",
       " 'UUbYU': 1,\n",
       " 'bUXUTad': 1,\n",
       " 'dZZTdZZU': 1,\n",
       " 'pdZbpcYaZ': 1,\n",
       " 'TZ': 1,\n",
       " 'UcZdcbdYd': 1,\n",
       " 'XYZTTTc': 1,\n",
       " 'Ypa': 1,\n",
       " 'dZ': 1,\n",
       " 'YbpbacX': 1,\n",
       " 'aacUZacd': 1,\n",
       " 'bbadU': 1,\n",
       " 'aYYTZUTbX': 9,\n",
       " 'cXaZ': 3,\n",
       " 'pXpbpd': 1,\n",
       " 'UZYZ': 1,\n",
       " 'aTbdbU': 1,\n",
       " 'aYUT': 1,\n",
       " 'TUppXX': 1,\n",
       " 'ZYpY': 1,\n",
       " 'cZcabYcZ': 1,\n",
       " 'bXYpYTpb': 1,\n",
       " 'dZb': 1,\n",
       " 'pYYacUUd': 1,\n",
       " 'cTbcc': 1,\n",
       " 'XYcXdpY': 1,\n",
       " 'pZXdbTY': 2,\n",
       " 'dTZbbcb': 1,\n",
       " 'ZTZ': 1,\n",
       " 'bUUpbYY': 4,\n",
       " 'aYTcpa': 1,\n",
       " 'cadTZXp': 1,\n",
       " 'Ud': 1,\n",
       " 'cpbpUUXd': 1,\n",
       " 'dppXXdbTZ': 1,\n",
       " 'UaX': 1,\n",
       " 'bU': 1,\n",
       " 'T': 1,\n",
       " 'bYXT': 1,\n",
       " 'Yba': 1,\n",
       " 'd': 1,\n",
       " 'XT': 1,\n",
       " 'ZcabdZdd': 1,\n",
       " 'TZaXXYap': 1,\n",
       " 'ZT': 1,\n",
       " 'bUZTZX': 1,\n",
       " 'TpYbUX': 1,\n",
       " 'cbcapTZY': 1}"
      ]
     },
     "execution_count": 35,
     "metadata": {},
     "output_type": "execute_result"
    }
   ],
   "source": [
    "dct = {}\n",
    "uniq = set()\n",
    "maxCount = 0\n",
    "word = ''\n",
    "with open('dataset_3363_3.txt') as text:\n",
    "    for line in text:\n",
    "        line = line.strip().split()\n",
    "        for ln in range(len(line)):\n",
    "            uniq.add(line[ln].lower())\n",
    "            if line[ln] in dct:\n",
    "                dct[line[ln]] += 1\n",
    "                if dct[line[ln]] > maxCount:\n",
    "                    maxCount = dct[line[ln]]\n",
    "            else:\n",
    "                dct[line[ln]] = 1\n",
    "for wrd, cnt in dct.items():\n",
    "    print(wrd, cnt)\n",
    "    if cnt == maxCount:\n",
    "        word = wrd\n",
    "with open('text.txt', 'w') as txt:\n",
    "    txt.write(word + ' ' + str(maxCount))\n",
    "\n",
    "print(len(uniq))\n",
    "print(len(dct))\n",
    "print(maxCount)\n",
    "dct"
   ]
  },
  {
   "cell_type": "code",
   "execution_count": 660,
   "metadata": {},
   "outputs": [
    {
     "name": "stdout",
     "output_type": "stream",
     "text": [
      "A4Q10Z19u4g4m2n7D11b1c13f1H11w20C13G8j18g19n12L10N15E18v4H16p12b7G2i16H6x10k5e19o5u15a13p7Z14Q19\n",
      "['A', 'Q', 'Z', 'u', 'g', 'm', 'n', 'D', 'b', 'c', 'f', 'H', 'w', 'C', 'G', 'j', 'g', 'n', 'L', 'N', 'E', 'v', 'H', 'p', 'b', 'G', 'i', 'H', 'x', 'k', 'e', 'o', 'u', 'a', 'p', 'Z', 'Q'] 37\n",
      "['4', '10', '19', '4', '4', '2', '7', '11', '1', '13', '1', '11', '20', '13', '8', '18', '19', '12', '10', '15', '18', '4', '16', '12', '7', '2', '16', '6', '10', '5', '19', '5', '15', '13', '7', '14', '19'] 37\n"
     ]
    }
   ],
   "source": [
    "with open('dataset_3363_2.txt') as dSet:\n",
    "    line = dSet.readline().strip()\n",
    "print(line)\n",
    "ch = []\n",
    "chCount = []\n",
    "num = ''\n",
    "for ln in range(len(line)):\n",
    "    if line[ln] not in ['0', '1', '2', '3', '4', '5', '6', '7', '8', '9']:\n",
    "        if num != '':\n",
    "            chCount += [num]\n",
    "        ch += [line[ln]]\n",
    "        num = ''\n",
    "        continue\n",
    "    num += line[ln]\n",
    "    if ln == len(line) - 1:\n",
    "        chCount += [num]\n",
    "\n",
    "with open('str.txt', 'w') as out:\n",
    "    for cnt in range(len(chCount)):\n",
    "        for c in range(int(chCount[cnt])):\n",
    "            out.write(ch[cnt])\n",
    "        "
   ]
  },
  {
   "cell_type": "code",
   "execution_count": 606,
   "metadata": {},
   "outputs": [
    {
     "name": "stdout",
     "output_type": "stream",
     "text": [
      "3\n",
      "1\n",
      "2\n",
      "3\n"
     ]
    }
   ],
   "source": [
    "valDict = {}\n",
    "n = int(input())\n",
    "while n != 0:\n",
    "    x = int(input())\n",
    "    if x not in valDict:\n",
    "        valDict[x] = f(x)\n",
    "    print(valDict[x])\n",
    "    n -= 1"
   ]
  },
  {
   "cell_type": "code",
   "execution_count": 605,
   "metadata": {},
   "outputs": [
    {
     "name": "stdout",
     "output_type": "stream",
     "text": [
      "a A a\n",
      "a 3\n"
     ]
    }
   ],
   "source": [
    "def getUniqWord(wrd):\n",
    "    w = set()\n",
    "    for i in wrd:\n",
    "        w.add(i)\n",
    "    return w\n",
    "def getCountWord(st, words):\n",
    "    di = {}\n",
    "    for s in st:\n",
    "        wCount = 0\n",
    "        for word in words:\n",
    "            if s == word:\n",
    "                wCount += 1\n",
    "        di[s] = wCount\n",
    "    return di\n",
    "def printCounter(dct):\n",
    "    for wrd, cnt in dct.items():\n",
    "        print(wrd, cnt)\n",
    "words = input().lower().split()\n",
    "printCounter(getCountWord(getUniqWord(words), words))\n"
   ]
  },
  {
   "cell_type": "code",
   "execution_count": 588,
   "metadata": {},
   "outputs": [
    {
     "name": "stdout",
     "output_type": "stream",
     "text": [
      "None\n",
      "{2: [-1]}\n",
      "{2: [-1, -2]}\n",
      "{2: [-1, -2, -3]}\n"
     ]
    }
   ],
   "source": [
    "def update_dictionary(d, key, value):\n",
    "    if key in d:\n",
    "        d[key] = d[key] + [value]\n",
    "    elif 2 * key in d:\n",
    "        d[2 * key] = d[2 * key] + [value]\n",
    "    else:\n",
    "        d[2 * key] = [value]\n",
    "        \n",
    "    \n",
    "d = {}\n",
    "print(update_dictionary(d, 1, -1))  # None\n",
    "print(d)                            # {2: [-1]}\n",
    "update_dictionary(d, 2, -2)\n",
    "print(d)                            # {2: [-1, -2]}\n",
    "update_dictionary(d, 1, -3)\n",
    "print(d)                            # {2: [-1, -2, -3]}"
   ]
  },
  {
   "cell_type": "code",
   "execution_count": 582,
   "metadata": {},
   "outputs": [
    {
     "name": "stdout",
     "output_type": "stream",
     "text": [
      "None\n",
      "l1 [0, -2, 3, 5, 1, 2, 3]\n",
      "[0, -1, 1]\n"
     ]
    }
   ],
   "source": [
    "def modify_list(l):\n",
    "    k = 0\n",
    "    for i in range(len(l)):\n",
    "        if l[i - k] % 2 != 0:\n",
    "            l.remove(l[i - k])\n",
    "            k += 1\n",
    "    for j in range(len(l)):\n",
    "        l[j] = l[j] // 2\n",
    "        \n",
    "lst = [0, -4, 1, 3, 6, 10, 2, 3, 4, 5, 6]\n",
    "print(modify_list(lst))\n",
    "print('l1', lst)\n",
    "modify_list(lst)\n",
    "print(lst)"
   ]
  },
  {
   "cell_type": "code",
   "execution_count": 542,
   "metadata": {},
   "outputs": [
    {
     "data": {
      "text/plain": [
       "7.25"
      ]
     },
     "execution_count": 542,
     "metadata": {},
     "output_type": "execute_result"
    }
   ],
   "source": [
    "def f(x):\n",
    "    if x <= -2:\n",
    "        return 1 - (x + 2) ** 2\n",
    "    elif -2 < x <= 2:\n",
    "        return - x / 2\n",
    "    elif x > 2:\n",
    "        return (x - 2) ** 2 + 1\n",
    "f(4.5)"
   ]
  },
  {
   "cell_type": "code",
   "execution_count": 538,
   "metadata": {},
   "outputs": [
    {
     "name": "stdout",
     "output_type": "stream",
     "text": [
      "5\n",
      "1 2 3 4 5 \n",
      "16 17 18 19 6 \n",
      "15 24 25 20 7 \n",
      "14 23 22 21 8 \n",
      "13 12 11 10 9 \n"
     ]
    }
   ],
   "source": [
    "n = int(input())\n",
    "tab = [[0] * n for i in range(n)]\n",
    "itr = 1\n",
    "swt = True\n",
    "x = 0\n",
    "y = 0\n",
    "while itr <= n ** 2:\n",
    "    tab[y][x] = itr\n",
    "    if x < len(tab[y]) - 1 and tab[y][x + 1] == 0 and swt:\n",
    "        x += 1\n",
    "    elif y < len(tab[y]) - 1 and tab[y + 1][x] == 0 and swt:\n",
    "        y += 1\n",
    "    else:\n",
    "        swt = False\n",
    "        if tab[y][x - 1] == 0:\n",
    "            x -= 1\n",
    "        elif tab[y - 1][x] == 0:\n",
    "            y -= 1\n",
    "        if tab[y - 1][x] != 0:\n",
    "            swt = True\n",
    "    itr += 1\n",
    "for w in range(len(tab)):\n",
    "    for v in range(len(tab[w])):\n",
    "        print(tab[w][v], end=' ')\n",
    "    print()"
   ]
  },
  {
   "cell_type": "code",
   "execution_count": null,
   "metadata": {},
   "outputs": [],
   "source": []
  },
  {
   "cell_type": "code",
   "execution_count": 447,
   "metadata": {},
   "outputs": [
    {
     "name": "stdout",
     "output_type": "stream",
     "text": [
      "1\n",
      "end\n",
      "4 \n"
     ]
    }
   ],
   "source": [
    "matr = []\n",
    "summ = 0\n",
    "inp = input()\n",
    "while inp != 'end':\n",
    "    matr.append([int(i) for i in inp.split()])\n",
    "    inp = input()\n",
    "for y in range(len(matr)):\n",
    "    for x in range(len(matr[y])):\n",
    "        dx = x + 1\n",
    "        dy = y + 1\n",
    "        if dx >= len(matr[y]):\n",
    "            dx = 0\n",
    "        if dy >= len(matr):\n",
    "            dy = 0\n",
    "        print(matr[y - 1][x] + matr[y][dx] + matr[dy][x] + matr[y][x - 1], end=' ')\n",
    "    print()"
   ]
  },
  {
   "cell_type": "code",
   "execution_count": 355,
   "metadata": {},
   "outputs": [
    {
     "name": "stdout",
     "output_type": "stream",
     "text": [
      "8\n",
      "1 4 5 "
     ]
    }
   ],
   "source": [
    "lst = [int(i) for i in input().split()]\n",
    "x = int(input())\n",
    "if x in lst:\n",
    "    for i in range(len(lst)):\n",
    "        if lst[i] == x:\n",
    "            print(i, end=' ')\n",
    "else:\n",
    "    print('Отсутствует')"
   ]
  },
  {
   "cell_type": "code",
   "execution_count": 270,
   "metadata": {},
   "outputs": [
    {
     "name": "stdout",
     "output_type": "stream",
     "text": [
      "50\n",
      "1 2 2 3 3 3 4 4 4 4 5 5 5 5 5 6 6 6 6 6 6 7 7 7 7 7 7 7 8 8 8 8 8 8 8 8 9 9 9 9 9 9 9 9 9 10 10 10 10 10 "
     ]
    }
   ],
   "source": [
    "n = int(input())\n",
    "itr = 0\n",
    "for i in range(n + 1):\n",
    "    for j in ((str(i) + ' ') * i).split():\n",
    "        itr += 1\n",
    "        if itr > n:\n",
    "            break\n",
    "        print(j, end=' ')"
   ]
  },
  {
   "cell_type": "code",
   "execution_count": 249,
   "metadata": {},
   "outputs": [
    {
     "name": "stdout",
     "output_type": "stream",
     "text": [
      "2\n",
      "0\n",
      "-2\n",
      "8\n"
     ]
    }
   ],
   "source": [
    "summa = int(input())\n",
    "sumSq = summa ** 2\n",
    "while summa != 0:\n",
    "    num = int(input())\n",
    "    sumSq += num ** 2\n",
    "    summa += num\n",
    "print(sumSq)\n"
   ]
  },
  {
   "cell_type": "code",
   "execution_count": 225,
   "metadata": {},
   "outputs": [
    {
     "name": "stdout",
     "output_type": "stream",
     "text": [
      "4 8 0 3 4 2 0 3\n",
      "0 3 4 "
     ]
    }
   ],
   "source": [
    "numStr = input()\n",
    "numList = [int(i) for i in numStr.split()]\n",
    "numList.sort()\n",
    "key = ''\n",
    "for n in numList:\n",
    "    if n == key:\n",
    "        continue\n",
    "    if numList.count(n) > 1:\n",
    "        key = n\n",
    "        print(n, end=' ')"
   ]
  },
  {
   "cell_type": "code",
   "execution_count": 174,
   "metadata": {},
   "outputs": [
    {
     "name": "stdout",
     "output_type": "stream",
     "text": [
      "1 3 5 6 10\n",
      "13 6 9 15 7 "
     ]
    }
   ],
   "source": [
    "inputList = [int(i) for i in input().split()]\n",
    "for num in range(len(inputList)):\n",
    "    if len(inputList) == 1:\n",
    "        print(inputList[0])\n",
    "        break\n",
    "    elif num == 0:\n",
    "        print(inputList[len(inputList) - 1] + inputList[num + 1], end=' ')\n",
    "    elif num == len(inputList) - 1:\n",
    "        print(inputList[num - 1] + inputList[0], end=' ')\n",
    "    else:\n",
    "        print(inputList[num - 1] + inputList[num + 1], end=' ')\n"
   ]
  },
  {
   "cell_type": "code",
   "execution_count": 147,
   "metadata": {},
   "outputs": [
    {
     "name": "stdout",
     "output_type": "stream",
     "text": [
      "5\n",
      "5\n"
     ]
    }
   ],
   "source": [
    "num = [int(i) for i in input().split()]\n",
    "summa = 0\n",
    "for n in num:\n",
    "    summa += n\n",
    "print(summa)"
   ]
  },
  {
   "cell_type": "code",
   "execution_count": 137,
   "metadata": {},
   "outputs": [
    {
     "name": "stdout",
     "output_type": "stream",
     "text": [
      "abc\n",
      "a1b1c1\n"
     ]
    }
   ],
   "source": [
    "dnk = input()\n",
    "c = dnk[0]\n",
    "cnt = 0\n",
    "dnkZip = ''\n",
    "for ch in range(len(dnk)):\n",
    "    if (dnk[ch] == c):\n",
    "        cnt += 1\n",
    "    else:\n",
    "        dnkZip += c + str(cnt)\n",
    "        cnt = 1\n",
    "    c = dnk[ch]\n",
    "    if ch == len(dnk) - 1:\n",
    "        dnkZip += c + str(cnt)\n",
    "print(dnkZip)"
   ]
  },
  {
   "cell_type": "code",
   "execution_count": 16,
   "metadata": {},
   "outputs": [
    {
     "name": "stdout",
     "output_type": "stream",
     "text": [
      "acggtgttat\n",
      "40.0\n"
     ]
    }
   ],
   "source": [
    "gen = input().lower()\n",
    "guanin = gen.count('g')\n",
    "citosin = gen.count('c')\n",
    "print((guanin + citosin) / len(gen) * 100)"
   ]
  },
  {
   "cell_type": "code",
   "execution_count": 4,
   "metadata": {},
   "outputs": [
    {
     "name": "stdout",
     "output_type": "stream",
     "text": [
      "-5\n",
      "12\n",
      "4.5\n"
     ]
    }
   ],
   "source": [
    "a = int(input())\n",
    "b = int(input())\n",
    "summa = 0\n",
    "length = 0\n",
    "for i in range(a, b + 1):\n",
    "    if i % 3 == 0:\n",
    "        summa += i\n",
    "        length += 1\n",
    "print(summa / length)"
   ]
  },
  {
   "cell_type": "code",
   "execution_count": 123,
   "metadata": {},
   "outputs": [
    {
     "name": "stdout",
     "output_type": "stream",
     "text": [
      "1\n",
      "3\n",
      "2\n",
      "4\n",
      "\t2\t3\t4\t\n",
      "1\t2\t3\t4\t\n",
      "2\t4\t6\t8\t\n",
      "3\t6\t9\t12\t\n"
     ]
    }
   ],
   "source": [
    "a = int(input())\n",
    "b = int(input())\n",
    "c = int(input())\n",
    "d = int(input())\n",
    "if (a <= b) & (c <= d):\n",
    "    for i in range(a - 1, b + 1):\n",
    "        if (i == a - 1):\n",
    "            print('', end = '\\t')\n",
    "        else:\n",
    "            print(i, end = '\\t')\n",
    "        for j in range(c, d + 1):\n",
    "            if (i == a - 1):\n",
    "                print(j, end = '\\t')\n",
    "            else:\n",
    "                print(i * j, end = '\\t')\n",
    "        print()"
   ]
  },
  {
   "cell_type": "code",
   "execution_count": 97,
   "metadata": {},
   "outputs": [
    {
     "name": "stdout",
     "output_type": "stream",
     "text": [
      "5\n",
      "6\n",
      "15\n",
      "15\n",
      "150\n"
     ]
    }
   ],
   "source": [
    "while True:\n",
    "    num = int(input())\n",
    "    if num < 10:\n",
    "        continue\n",
    "    if num > 100:\n",
    "        break\n",
    "    print(num)"
   ]
  },
  {
   "cell_type": "code",
   "execution_count": null,
   "metadata": {},
   "outputs": [],
   "source": [
    "i = 0\n",
    "s = 0\n",
    "while i < 10:\n",
    "    i = i + 1\n",
    "    s = s + i # s1-i1 s4-i3 s9-i5 s16-i7 s24-i8 i9 \n",
    "    if s > 15:\n",
    "        continue\n",
    "    i = i + 1\n",
    "  "
   ]
  },
  {
   "cell_type": "code",
   "execution_count": 95,
   "metadata": {},
   "outputs": [
    {
     "name": "stdout",
     "output_type": "stream",
     "text": [
      "12\n",
      "16\n",
      "48\n"
     ]
    }
   ],
   "source": [
    "cmd1 = int(input())\n",
    "cmd2 = int(input())\n",
    "nok = cmd1\n",
    "i = 1\n",
    "while not ((nok % cmd1 == 0) & (nok % cmd2 == 0)):\n",
    "    nok = i * cmd1\n",
    "    i += 1\n",
    "print(nok)"
   ]
  },
  {
   "cell_type": "code",
   "execution_count": 57,
   "metadata": {},
   "outputs": [
    {
     "name": "stdout",
     "output_type": "stream",
     "text": [
      "13\n"
     ]
    }
   ],
   "source": [
    "i = 0\n",
    "while i < 5:\n",
    "    print('*')\n",
    "    if i % 2 == 0:\n",
    "        print('**')\n",
    "    if i > 2:\n",
    "        print('***')\n",
    "    i = i + 1"
   ]
  },
  {
   "cell_type": "code",
   "execution_count": 53,
   "metadata": {},
   "outputs": [
    {
     "name": "stdout",
     "output_type": "stream",
     "text": [
      "123456\n",
      "Обычный\n"
     ]
    }
   ],
   "source": [
    "bilet = int(input())\n",
    "bl1   = bilet // 1000\n",
    "bl2   = bilet % 1000\n",
    "sum1  = bl1 // 100 + (bl1 - bl1 // 100 * 100) // 10 + bl1 % 10\n",
    "sum2  = bl2 // 100 + (bl2 - bl2 // 100 * 100) // 10 + bl2 % 10\n",
    "if sum1 == sum2:\n",
    "    print('Счастливый')\n",
    "else:\n",
    "    print('Обычный')"
   ]
  },
  {
   "cell_type": "code",
   "execution_count": 20,
   "metadata": {},
   "outputs": [
    {
     "name": "stdout",
     "output_type": "stream",
     "text": [
      "614\n",
      "614 программистов\n"
     ]
    }
   ],
   "source": [
    "prog = int(input())\n",
    "st   = 'программистов'\n",
    "if (prog % 10 == 1) & (not (prog % 100 == 11)):\n",
    "    st = 'программист'\n",
    "elif (2 <= (prog % 10) <= 4) & (not (12 <= (prog % 100) <= 14)):\n",
    "    st = 'программиста'\n",
    "if 0 <= prog <= 1000:\n",
    "    print(prog, st)"
   ]
  },
  {
   "cell_type": "code",
   "execution_count": 57,
   "metadata": {},
   "outputs": [
    {
     "name": "stdout",
     "output_type": "stream",
     "text": [
      "8\n",
      "2\n",
      "14\n",
      "14\n",
      "2\n",
      "8\n"
     ]
    }
   ],
   "source": [
    "# 8 2 14\n",
    "a = int(input())\n",
    "b = int(input())\n",
    "c = int(input())\n",
    "if a>=b>=c:\n",
    "    print(a)\n",
    "    print(c)\n",
    "    print(b)\n",
    "elif a>=c>=b:\n",
    "    print(a)\n",
    "    print(b)\n",
    "    print(c)\n",
    "elif b>=a>=c:\n",
    "    print(b)\n",
    "    print(c)\n",
    "    print(a)\n",
    "elif b>=c>=a:\n",
    "    print(b)\n",
    "    print(a)\n",
    "    print(c)\n",
    "elif c>=a>=b:\n",
    "    print(c)\n",
    "    print(b)\n",
    "    print(a)\n",
    "elif c>=b>=a:\n",
    "    print(c)\n",
    "    print(a)\n",
    "    print(b)"
   ]
  },
  {
   "cell_type": "code",
   "execution_count": 51,
   "metadata": {},
   "outputs": [
    {
     "name": "stdout",
     "output_type": "stream",
     "text": [
      "треугольник\n",
      "3\n",
      "4\n",
      "5\n",
      "6.0\n"
     ]
    }
   ],
   "source": [
    "form = input()\n",
    "if form == 'треугольник':\n",
    "    a = float(input())\n",
    "    b = float(input())\n",
    "    c = float(input())\n",
    "    p = (a + b + c)/2\n",
    "    print((p * (p - a) * (p - b) * (p - c))**0.5)\n",
    "elif form == 'прямоугольник':\n",
    "    a = float(input())\n",
    "    b = float(input())\n",
    "    print(a * b)\n",
    "elif form == 'круг':\n",
    "    nPi = 3.14\n",
    "    r   = float(input())\n",
    "    print(nPi * r ** 2)\n",
    "    "
   ]
  },
  {
   "cell_type": "code",
   "execution_count": 45,
   "metadata": {},
   "outputs": [
    {
     "name": "stdout",
     "output_type": "stream",
     "text": [
      "5\n",
      "0\n",
      "div\n",
      "Деление на 0!\n"
     ]
    }
   ],
   "source": [
    "num1 = float(input())\n",
    "num2 = float(input())\n",
    "oper = input()\n",
    "if oper == '+':\n",
    "    print(num1 + num2)\n",
    "elif oper == '-':\n",
    "    print(num1 - num2)\n",
    "elif oper == '/':\n",
    "    if num2 == 0:\n",
    "        print('Деление на 0!')\n",
    "    else:\n",
    "        print(num1 / num2)\n",
    "elif oper == '*':\n",
    "    print(num1 * num2)\n",
    "elif oper == 'mod':\n",
    "    if num2 == 0:\n",
    "        print('Деление на 0!')\n",
    "    else:\n",
    "        print(num1 % num2)\n",
    "elif oper == 'pow':\n",
    "    print(num1 ** num2)\n",
    "elif oper == 'div':\n",
    "    if num2 == 0:\n",
    "        print('Деление на 0!')\n",
    "    else:\n",
    "        print(num1 // num2)"
   ]
  },
  {
   "cell_type": "code",
   "execution_count": 30,
   "metadata": {},
   "outputs": [
    {
     "name": "stdout",
     "output_type": "stream",
     "text": [
      "18\n",
      "False\n"
     ]
    }
   ],
   "source": [
    "num = int(input())\n",
    "print((num > -15) & (num <= 12) or (num > 14) & (num < 17) or (num >= 19))\n",
    "#(−15,12]∪(14,17)∪[19,+∞)"
   ]
  },
  {
   "cell_type": "code",
   "execution_count": 21,
   "metadata": {},
   "outputs": [
    {
     "name": "stdout",
     "output_type": "stream",
     "text": [
      "3\n",
      "4\n",
      "5\n",
      "6.0\n"
     ]
    }
   ],
   "source": [
    "a = int(input())\n",
    "b = int(input())\n",
    "c = int(input())\n",
    "p = (a + b + c)/2\n",
    "print((p * (p - a) * (p - b) * (p - c))**0.5)"
   ]
  },
  {
   "cell_type": "code",
   "execution_count": 19,
   "metadata": {},
   "outputs": [
    {
     "data": {
      "text/plain": [
       "'12342'"
      ]
     },
     "execution_count": 19,
     "metadata": {},
     "output_type": "execute_result"
    }
   ],
   "source": [
    "\"239\" < \"30\" and 239 < 30\n",
    "\"239\" < \"30\" and 239 > 30\n",
    "\"239\" > \"30\" and 239 < 30\n",
    "\"239\" > \"30\" and 239 > 30\n",
    "'123'+'42'"
   ]
  },
  {
   "cell_type": "code",
   "execution_count": 13,
   "metadata": {},
   "outputs": [
    {
     "name": "stdout",
     "output_type": "stream",
     "text": [
      "True\n",
      "True\n"
     ]
    }
   ],
   "source": [
    "print('229' < '30')\n",
    "print('abc' > 'ab')"
   ]
  },
  {
   "cell_type": "code",
   "execution_count": 11,
   "metadata": {},
   "outputs": [
    {
     "name": "stdout",
     "output_type": "stream",
     "text": [
      "1992\n",
      "Високосный\n"
     ]
    }
   ],
   "source": [
    "year = int(input())\n",
    "if 1900 <= year <= 3000:\n",
    "    if (year % 4 == 0) & (year % 100 != 0) or (year % 400 == 0):\n",
    "        print('Високосный')\n",
    "    else:\n",
    "        print('Обычный')"
   ]
  },
  {
   "cell_type": "code",
   "execution_count": 15,
   "metadata": {},
   "outputs": [
    {
     "name": "stdout",
     "output_type": "stream",
     "text": [
      "7\n",
      "9\n",
      "2\n",
      "Недосып\n"
     ]
    }
   ],
   "source": [
    "a = int(input())\n",
    "b = int(input())\n",
    "h = int(input())\n",
    "if a > h:\n",
    "    print('Недосып')\n",
    "elif b < h:\n",
    "    print('Пересып')\n",
    "else:\n",
    "    print('Это нормально')\n",
    "    "
   ]
  },
  {
   "cell_type": "code",
   "execution_count": 37,
   "metadata": {},
   "outputs": [
    {
     "data": {
      "text/plain": [
       "False"
      ]
     },
     "execution_count": 37,
     "metadata": {},
     "output_type": "execute_result"
    }
   ],
   "source": [
    "a = True\n",
    "b = False\n",
    "a and b or not a and not b"
   ]
  },
  {
   "cell_type": "code",
   "execution_count": 36,
   "metadata": {},
   "outputs": [
    {
     "data": {
      "text/plain": [
       "True"
      ]
     },
     "execution_count": 36,
     "metadata": {},
     "output_type": "execute_result"
    }
   ],
   "source": [
    "x = 5\n",
    "y = 10\n",
    "y > x * x or y >= 2 * x and x < y"
   ]
  },
  {
   "cell_type": "code",
   "execution_count": 23,
   "metadata": {},
   "outputs": [
    {
     "name": "stdout",
     "output_type": "stream",
     "text": [
      "7\n",
      "30\n",
      "450\n"
     ]
    }
   ],
   "source": [
    "a = int(input()) #hours\n",
    "b = int(input()) #minuts\n",
    "print(a * 60 + b)"
   ]
  },
  {
   "cell_type": "code",
   "execution_count": 35,
   "metadata": {},
   "outputs": [
    {
     "name": "stdout",
     "output_type": "stream",
     "text": [
      "475\n",
      "1\n",
      "55\n",
      "9\n",
      "50\n"
     ]
    }
   ],
   "source": [
    "allMinuts = int(input())\n",
    "hOffset   = int(input())\n",
    "mOffset   = int(input())\n",
    "allMinuts += hOffset * 60 + mOffset\n",
    "hours = allMinuts // 60\n",
    "minuts  = allMinuts % 60\n",
    "print(hours)\n",
    "print(minuts)"
   ]
  }
 ],
 "metadata": {
  "kernelspec": {
   "display_name": "Python 3",
   "language": "python",
   "name": "python3"
  },
  "language_info": {
   "codemirror_mode": {
    "name": "ipython",
    "version": 3
   },
   "file_extension": ".py",
   "mimetype": "text/x-python",
   "name": "python",
   "nbconvert_exporter": "python",
   "pygments_lexer": "ipython3",
   "version": "3.7.4"
  }
 },
 "nbformat": 4,
 "nbformat_minor": 2
}
